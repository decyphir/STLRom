{
 "cells": [
  {
   "cell_type": "markdown",
   "metadata": {},
   "source": [
    "First we import the library, forcing reload from local version (not pip install). "
   ]
  },
  {
   "cell_type": "code",
   "execution_count": 3,
   "metadata": {},
   "outputs": [],
   "source": [
    "import os\n",
    "import sys\n",
    "import importlib\n",
    "import matplotlib.pyplot as plt\n",
    "\n",
    "\n",
    "# Get the absolute path to the directory containing the local module\n",
    "stlrom_path = os.path.abspath('../build')\n",
    "\n",
    "# Insert the local module path at the beginning of sys.path\n",
    "sys.path.insert(0, stlrom_path)\n",
    "\n",
    "import stlrom\n",
    "\n",
    "# Reload the module to ensure it is loaded from the new path\n",
    "importlib.reload(stlrom)\n",
    "\n",
    "import stlrom as sr\n",
    "import numpy as np\n"
   ]
  },
  {
   "cell_type": "markdown",
   "metadata": {},
   "source": [
    "# Signals\n"
   ]
  },
  {
   "cell_type": "markdown",
   "metadata": {},
   "source": [
    "## Function\n"
   ]
  },
  {
   "cell_type": "code",
   "execution_count": 4,
   "metadata": {},
   "outputs": [],
   "source": [
    "import matplotlib.pyplot as plt\n",
    "\n",
    "# Plotting\n",
    "def plot_samples(signal,label=None, fig=None):\n",
    "    samples_list = signal.get_samples_list()\n",
    "\n",
    "    if fig is None:\n",
    "        fig = plt.figure(figsize=(15, 5)).gca()\n",
    "\n",
    "    if label is None:\n",
    "        label = f'Signal {len(fig.get_lines()) + 1}'\n",
    "\n",
    "    fig.set_xlabel('Time')\n",
    "    fig.set_ylabel('Value')\n",
    "    fig.set_title('Signal Plot')\n",
    "    fig.grid(True)\n",
    "        \n",
    "\n",
    "    def plot_sample(s, dt, color=None):\n",
    "        if color is None:\n",
    "            l, = fig.plot(s.time, s.value, marker='o')\n",
    "            color = l.get_color()\n",
    "            l = fig.plot([s.time, s.time+dt], [s.value, s.value_at(s.time+dt)], color=color, linestyle='-')\n",
    "        else:\n",
    "            l = fig.plot(s.time, s.value, marker='o', color=color)\n",
    "            l = fig.plot([s.time, s.time+dt], [s.value, s.value_at(s.time+dt)], color=color, linestyle='-')\n",
    "        return color,l\n",
    "    \n",
    "    \n",
    "    s = samples_list[0]\n",
    "    sn = samples_list[1]\n",
    "    dt = sn.time-s.time\n",
    "        \n",
    "    col,l = plot_sample(s, dt)\n",
    "    l[0].set_label(label)\n",
    "    \n",
    "    for i in range(1, len(samples_list)-1):\n",
    "        s = samples_list[i]\n",
    "        sn = samples_list[i+1]\n",
    "        dt = sn.time-s.time\n",
    "        plot_sample(s,dt,color=col)\n",
    "    \n",
    "    plot_sample(sn, signal.end_time-sn.time, col)\n",
    "    #fig.plot(sn.time, sn.value, marker='o', color=col)\n",
    "    fig.legend()\n",
    "    fig.figure.canvas.draw()\n",
    "\n",
    "    return fig\n",
    "\n",
    "# Printing\n",
    "def print_signal(signal):\n",
    "    for s in signal.get_samples_list():\n",
    "        s.print_sample()\n",
    "    print('begin_time ', signal.begin_time)\n",
    "    print('end_time    ',signal.end_time)\n",
    "\n"
   ]
  },
  {
   "cell_type": "markdown",
   "metadata": {},
   "source": [
    "## Test signals"
   ]
  },
  {
   "cell_type": "markdown",
   "metadata": {},
   "source": [
    "### Basic test signals"
   ]
  },
  {
   "cell_type": "code",
   "execution_count": null,
   "metadata": {},
   "outputs": [],
   "source": [
    "# One sample\n",
    "sig0 = sr.Signal()\n",
    "sig0.append_sample(0, -1)\n",
    "sig0.append_sample(1., 1)\n",
    "\n",
    "sig1 = sr.Signal()\n",
    "sig1.append_sample(.3, 2)\n",
    "sig1.append_sample(.6, 1.5)\n",
    "sig1.append_sample(1.3, -3)\n",
    "\n",
    "sig2 = sr.Signal()\n",
    "\n"
   ]
  },
  {
   "cell_type": "code",
   "execution_count": null,
   "metadata": {},
   "outputs": [],
   "source": [
    "sig = sig1\n",
    "\n",
    "sig_bool = sr.Signal()\n",
    "sig_bool.compute_boolean(sig)\n",
    "sig_ltr = sr.Signal()\n",
    "sig_ltr.compute_left_time_rob(sig)\n",
    "sig_rtr = sr.Signal()\n",
    "sig_rtr.compute_right_time_rob(sig)\n"
   ]
  },
  {
   "cell_type": "code",
   "execution_count": null,
   "metadata": {},
   "outputs": [],
   "source": []
  },
  {
   "cell_type": "code",
   "execution_count": null,
   "metadata": {},
   "outputs": [],
   "source": [
    "print_signal(sig_ltr)\n",
    "print_signal(sig_bool)"
   ]
  },
  {
   "cell_type": "code",
   "execution_count": null,
   "metadata": {},
   "outputs": [],
   "source": [
    "fig = plot_samples(sig, label='sig')\n",
    "plot_samples(sig_bool, label='sig_bool', fig=fig)\n",
    "#plot_samples(sig_ltr, label='sig_ltr', fig=fig)\n",
    "plot_samples(sig_rtr, label='sig_rtr', fig=fig)"
   ]
  },
  {
   "cell_type": "markdown",
   "metadata": {},
   "source": [
    "### Longer signals"
   ]
  },
  {
   "cell_type": "code",
   "execution_count": null,
   "metadata": {},
   "outputs": [],
   "source": [
    "times = np.arange(0, 10.1, .5)\n",
    "sin_val = np.sin(times*np.pi/2)\n",
    "overshoot_val = np.sin(times*np.pi*np.exp(-times/50))*np.exp(-times/2)+.1\n",
    "sig_sin = sr.Signal()\n",
    "sig_overshoot = sr.Signal()\n",
    "\n",
    "for i in range(0,len(times)):\n",
    "    sig_sin.append_sample(times[i],sin_val[i])\n",
    "    sig_overshoot.append_sample(times[i],overshoot_val[i])\n",
    "\n",
    "sig_sin_bool= sr.Signal()\n",
    "sig_sin_ltr = sr.Signal()\n",
    "sig_sin_rtr = sr.Signal()\n",
    "\n",
    "sig = sig_overshoot\n",
    "sig_sin_bool.compute_boolean(sig)\n",
    "sig_sin_ltr.compute_left_time_rob(sig)\n",
    "sig_sin_rtr.compute_right_time_rob(sig)\n",
    "fig = plot_samples(sig, label='sin')\n",
    "plot_samples(sig_sin_bool, label='sin_bool', fig=fig)\n",
    "plot_samples(sig_sin_ltr, label= 'sin_ltr', fig=fig)\n",
    "plot_samples(sig_sin_rtr, label= 'sin_rtr', fig=fig)\n",
    "\n"
   ]
  },
  {
   "cell_type": "code",
   "execution_count": null,
   "metadata": {},
   "outputs": [],
   "source": [
    "for s in sig_sin_bool.get_samples_list():\n",
    "    s.print_sample()\n"
   ]
  },
  {
   "cell_type": "markdown",
   "metadata": {},
   "source": [
    "# Drivers"
   ]
  },
  {
   "cell_type": "markdown",
   "metadata": {},
   "source": [
    "The following determines globally whether we use space, left time or right time robustnes."
   ]
  },
  {
   "cell_type": "code",
   "execution_count": 3,
   "metadata": {},
   "outputs": [],
   "source": [
    "#sr.Signal().set_semantics('LEFT_TIME') \n",
    "#sr.Signal().set_semantics('RIGHT_TIME') \n",
    "sr.Signal().set_semantics('SPACE') \n"
   ]
  },
  {
   "cell_type": "markdown",
   "metadata": {},
   "source": [
    "We instantiate an STLDriver object. This object is the main interface to the library. "
   ]
  },
  {
   "cell_type": "code",
   "execution_count": 5,
   "metadata": {},
   "outputs": [],
   "source": [
    "stl_parser = stlrom.STLDriver()"
   ]
  },
  {
   "cell_type": "markdown",
   "metadata": {},
   "source": [
    "We need to declare signals, parameters (optional), and formulas. For this we can use the `parse_string()` method. "
   ]
  },
  {
   "cell_type": "code",
   "execution_count": 6,
   "metadata": {},
   "outputs": [
    {
     "data": {
      "text/plain": [
       "True"
      ]
     },
     "execution_count": 6,
     "metadata": {},
     "output_type": "execute_result"
    }
   ],
   "source": [
    "stl_parser.parse_string(\"signal x, y\")       # declaring signals named 'x' and 'y'\n",
    "stl_parser.parse_string(\"param p=0.2, tau=5\") # declaring parameters named 'p' and 'q'\n",
    "# Let's add some formulas\n",
    "stl_parser.parse_string(\"mu_x := x[t] > 0 \") # a atomic proposition\n",
    "stl_parser.parse_string(\"mu_y := y[t] < p \") # another atomic proposition\n",
    "stl_parser.parse_string(\"mu := mu_x and mu_y\") # a compound proposition\n",
    "stl_parser.parse_string(\"phi := ev_[0, tau] mu\") # a temporal proposition"
   ]
  },
  {
   "cell_type": "markdown",
   "metadata": {},
   "source": [
    "The STLDriver object can create STLMonitor objects, which are used to evaluate properties on data. "
   ]
  },
  {
   "cell_type": "code",
   "execution_count": 7,
   "metadata": {},
   "outputs": [
    {
     "name": "stdout",
     "output_type": "stream",
     "text": [
      "Signal Names: x, y\n",
      "Parameters: p: 0.2, tau: 5\n",
      "Formula: x[t] > 0\n",
      "\n"
     ]
    },
    {
     "data": {
      "text/plain": [
       "0"
      ]
     },
     "execution_count": 7,
     "metadata": {},
     "output_type": "execute_result"
    }
   ],
   "source": [
    "monitor = stl_parser.get_monitor(\"mu_x\")\n",
    "print(monitor)\n",
    "monitor.add_sample([0, 2.,3.])\n",
    "monitor.add_sample([.5, .2, -5])\n",
    "monitor.add_sample([1, .2, 4])\n"
   ]
  },
  {
   "cell_type": "markdown",
   "metadata": {},
   "source": [
    "We are now ready to evaluate formulas. For this we use the get_online_rob() method. "
   ]
  },
  {
   "cell_type": "code",
   "execution_count": 8,
   "metadata": {},
   "outputs": [],
   "source": [
    "monitor.set_eval_time(0., 1.\n",
    "                      )"
   ]
  },
  {
   "cell_type": "code",
   "execution_count": 9,
   "metadata": {},
   "outputs": [
    {
     "data": {
      "text/plain": [
       "2.0"
      ]
     },
     "execution_count": 9,
     "metadata": {},
     "output_type": "execute_result"
    }
   ],
   "source": [
    "monitor.eval_robustness()"
   ]
  },
  {
   "cell_type": "code",
   "execution_count": 10,
   "metadata": {},
   "outputs": [],
   "source": [
    "z = sr.Signal()"
   ]
  },
  {
   "cell_type": "code",
   "execution_count": 11,
   "metadata": {},
   "outputs": [],
   "source": [
    "z = monitor.get_signal()"
   ]
  },
  {
   "cell_type": "code",
   "execution_count": 12,
   "metadata": {},
   "outputs": [
    {
     "name": "stdout",
     "output_type": "stream",
     "text": [
      "begin_time  0.0\n",
      "end_time     1.0\n",
      "Time 0.00000 Value 2.00000 Derivative -3.60000\n",
      "Time 0.50000 Value 0.20000 Derivative 0.00000\n",
      "Time 1.00000 Value 0.20000 Derivative 0.00000\n"
     ]
    }
   ],
   "source": [
    "print_signal(z)"
   ]
  },
  {
   "cell_type": "code",
   "execution_count": null,
   "metadata": {},
   "outputs": [],
   "source": []
  }
 ],
 "metadata": {
  "kernelspec": {
   "display_name": "T1D_env",
   "language": "python",
   "name": "python3"
  },
  "language_info": {
   "codemirror_mode": {
    "name": "ipython",
    "version": 3
   },
   "file_extension": ".py",
   "mimetype": "text/x-python",
   "name": "python",
   "nbconvert_exporter": "python",
   "pygments_lexer": "ipython3",
   "version": "3.12.3"
  }
 },
 "nbformat": 4,
 "nbformat_minor": 2
}
