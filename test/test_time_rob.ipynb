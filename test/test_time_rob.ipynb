{
 "cells": [
  {
   "cell_type": "markdown",
   "metadata": {},
   "source": [
    "First we import the library, forcing reload from local version (not pip install). "
   ]
  },
  {
   "cell_type": "code",
   "execution_count": 1,
   "metadata": {},
   "outputs": [],
   "source": [
    "import os\n",
    "import sys\n",
    "import importlib\n",
    "import matplotlib.pyplot as plt\n",
    "\n",
    "\n",
    "# Get the absolute path to the directory containing the local module\n",
    "stlrom_path = os.path.abspath('../build')\n",
    "\n",
    "# Insert the local module path at the beginning of sys.path\n",
    "sys.path.insert(0, stlrom_path)\n",
    "\n",
    "import stlrom\n",
    "\n",
    "# Reload the module to ensure it is loaded from the new path\n",
    "importlib.reload(stlrom)\n",
    "\n",
    "import stlrom as sr\n",
    "import numpy as np\n"
   ]
  },
  {
   "cell_type": "markdown",
   "metadata": {},
   "source": [
    "# Signals\n"
   ]
  },
  {
   "cell_type": "markdown",
   "metadata": {},
   "source": [
    "## Plotting function\n"
   ]
  },
  {
   "cell_type": "code",
   "execution_count": 2,
   "metadata": {},
   "outputs": [],
   "source": [
    "import matplotlib.pyplot as plt\n",
    "\n",
    "def plot_samples(signal,label=None, fig=None):\n",
    "    samples_list = signal.get_samples_list()\n",
    "\n",
    "    if fig is None:\n",
    "        fig = plt.figure(figsize=(15, 5)).gca()\n",
    "\n",
    "    if label is None:\n",
    "        label = f'Signal {len(fig.get_lines()) + 1}'\n",
    "\n",
    "    fig.set_xlabel('Time')\n",
    "    fig.set_ylabel('Value')\n",
    "    fig.set_title('Signal Plot')\n",
    "    fig.grid(True)\n",
    "        \n",
    "\n",
    "    def plot_sample(s, dt, color=None):\n",
    "        if color is None:\n",
    "            l, = fig.plot(s.time, s.value, marker='o')\n",
    "            color = l.get_color()\n",
    "            l = fig.plot([s.time, s.time+dt], [s.value, s.value_at(s.time+dt)], color=color, linestyle='-')\n",
    "        else:\n",
    "            l = fig.plot(s.time, s.value, marker='o', color=color)\n",
    "            l = fig.plot([s.time, s.time+dt], [s.value, s.value_at(s.time+dt)], color=color, linestyle='-')\n",
    "        return color,l\n",
    "    \n",
    "    \n",
    "    s = samples_list[0]\n",
    "    sn = samples_list[1]\n",
    "    dt = sn.time-s.time\n",
    "        \n",
    "    col,l = plot_sample(s, dt)\n",
    "    l[0].set_label(label)\n",
    "    \n",
    "    for i in range(1, len(samples_list)-1):\n",
    "        s = samples_list[i]\n",
    "        sn = samples_list[i+1]\n",
    "        dt = sn.time-s.time\n",
    "        plot_sample(s,dt,color=col)\n",
    "    \n",
    "    plot_sample(sn, signal.end_time-sn.time, col)\n",
    "    #fig.plot(sn.time, sn.value, marker='o', color=col)\n",
    "    fig.legend()\n",
    "    fig.figure.canvas.draw()\n",
    "\n",
    "    return fig\n",
    "\n",
    "def print_signal(signal):\n",
    "    for s in signal.get_samples_list():\n",
    "        s.print_sample()\n",
    "    print('begin_time ', signal.begin_time)\n",
    "    print('end_time    ',signal.end_time)"
   ]
  },
  {
   "cell_type": "markdown",
   "metadata": {},
   "source": [
    "# Drivers"
   ]
  },
  {
   "cell_type": "code",
   "execution_count": 31,
   "metadata": {},
   "outputs": [],
   "source": [
    "stl_parser = stlrom.STLDriver()\n",
    "\n",
    "stl_parser.parse_string(\"\"\" signal p, q \n",
    "p_    := p[t]>.5\n",
    "not_p := p[t]<.5                                                                             \n",
    "q_ := q[t]>.5\n",
    "not_q := q[t]<.5\n",
    "f1 := not_q until_[0, 10] (not_p and not_q)\n",
    "f2 := not( p_ until_[0, 10] q_ )\n",
    "\"\"\")\n",
    "\n",
    "stl_parser.add_sample([0, 1, 0])\n",
    "stl_parser.add_sample([7, 0, 0])\n",
    "stl_parser.add_sample([19, 1, 1])\n",
    "stl_parser.add_sample([37, 0, 1])\n",
    "stl_parser.add_sample([69, 1, 1])\n",
    "stl_parser.add_sample([100, 1, 1]) \n",
    "\n"
   ]
  },
  {
   "cell_type": "code",
   "execution_count": 32,
   "metadata": {},
   "outputs": [
    {
     "name": "stdout",
     "output_type": "stream",
     "text": [
      "interpol:PREVIOUS\n",
      "prev\n"
     ]
    }
   ],
   "source": [
    "stl_parser.set_semantics(\"LEFT_TIME\")\n",
    "stl_parser.set_interpol(\"PREVIOUS\")"
   ]
  },
  {
   "cell_type": "code",
   "execution_count": 33,
   "metadata": {},
   "outputs": [],
   "source": [
    "f1_left = stl_parser.get_monitor(\"f1\")\n",
    "f2_left = stl_parser.get_monitor(\"f2\")\n"
   ]
  },
  {
   "cell_type": "code",
   "execution_count": 34,
   "metadata": {},
   "outputs": [],
   "source": [
    "stl_parser.set_semantics(\"RIGHT_TIME\")\n",
    "f1_right = stl_parser.get_monitor(\"f1\")\n",
    "f2_right = stl_parser.get_monitor(\"f2\")\n"
   ]
  },
  {
   "cell_type": "code",
   "execution_count": 35,
   "metadata": {},
   "outputs": [
    {
     "name": "stdout",
     "output_type": "stream",
     "text": [
      "f1 left robustness: 1e-14\n",
      "f2 left robustness: 1e-14\n",
      "f1 right robustness: 3.0\n",
      "f2 right robustness: 3.0\n"
     ]
    }
   ],
   "source": [
    "print(\"f1 left robustness:\", f1_left.eval_rob())\n",
    "print(\"f2 left robustness:\", f2_left.eval_rob())\n",
    "print(\"f1 right robustness:\", f1_right.eval_rob())\n",
    "print(\"f2 right robustness:\", f2_right.eval_rob())"
   ]
  }
 ],
 "metadata": {
  "kernelspec": {
   "display_name": "T1D_env",
   "language": "python",
   "name": "python3"
  },
  "language_info": {
   "codemirror_mode": {
    "name": "ipython",
    "version": 3
   },
   "file_extension": ".py",
   "mimetype": "text/x-python",
   "name": "python",
   "nbconvert_exporter": "python",
   "pygments_lexer": "ipython3",
   "version": "3.12.3"
  }
 },
 "nbformat": 4,
 "nbformat_minor": 2
}
