{
 "cells": [
  {
   "cell_type": "markdown",
   "metadata": {},
   "source": [
    "First we import the library. "
   ]
  },
  {
   "cell_type": "code",
   "execution_count": 1,
   "metadata": {},
   "outputs": [],
   "source": [
    "import sys\n",
    "sys.path.append('../build')\n",
    "import stlrom"
   ]
  },
  {
   "cell_type": "markdown",
   "metadata": {},
   "source": [
    "We instantiate an STLDriver object. This object is the main interface to the library. "
   ]
  },
  {
   "cell_type": "code",
   "execution_count": 2,
   "metadata": {},
   "outputs": [],
   "source": [
    "monitor = stlrom.STLDriver()"
   ]
  },
  {
   "cell_type": "markdown",
   "metadata": {},
   "source": [
    "We need to declare signals, parameters (optional), and formulas. For this we can use the `parse_string()` method. "
   ]
  },
  {
   "cell_type": "code",
   "execution_count": 3,
   "metadata": {},
   "outputs": [
    {
     "data": {
      "text/plain": [
       "True"
      ]
     },
     "execution_count": 3,
     "metadata": {},
     "output_type": "execute_result"
    }
   ],
   "source": [
    "monitor.parse_string(\"signal x, y\")       # declaring signals named 'x' and 'y'\n",
    "monitor.parse_string(\"param p=0.2, tau=5\") # declaring parameters named 'p' and 'q'"
   ]
  },
  {
   "cell_type": "markdown",
   "metadata": {},
   "source": [
    "Let's declare formulas. "
   ]
  },
  {
   "cell_type": "code",
   "execution_count": 4,
   "metadata": {},
   "outputs": [
    {
     "name": "stdout",
     "output_type": "stream",
     "text": [
      "\n",
      "Assigned formulas:\n",
      "-------------------\n",
      "mu:\n",
      "x[t] > 0 and y[t] < p\n",
      "mu_x:\n",
      "x[t] > 0\n",
      "mu_y:\n",
      "y[t] < p\n",
      "phi:\n",
      "ev_[0,tau] (x[t] > 0 and y[t] < p) \n",
      "\n",
      "Default Parameters:\n",
      "---------------------\n",
      "p=0.2\n",
      "tau=5\n",
      "\n"
     ]
    }
   ],
   "source": [
    "monitor.parse_string(\"mu_x := x[t] > 0 \") # a atomic proposition\n",
    "monitor.parse_string(\"mu_y := y[t] < p \") # another atomic proposition\n",
    "monitor.parse_string(\"mu := mu_x and mu_y\") # a compound proposition\n",
    "monitor.parse_string(\"phi := ev_[0, tau] mu\") # a temporal proposition\n",
    "monitor.disp()"
   ]
  },
  {
   "cell_type": "markdown",
   "metadata": {},
   "source": [
    "We can now add data. We do it by adding time valued samples of the form [t, x, y]. Be careful to respect the order of signals declaration."
   ]
  },
  {
   "cell_type": "code",
   "execution_count": 5,
   "metadata": {},
   "outputs": [
    {
     "name": "stdout",
     "output_type": "stream",
     "text": [
      "[[0.0, 2.0, 3.0], [0.5, -1.0, -4.0], [3.0, 3.0, -5.0]]\n"
     ]
    }
   ],
   "source": [
    "monitor.add_sample([0, 2., 3.])     # at time 0, x=2, y=3\n",
    "monitor.add_sample([0.5, -1., -4.]) # at time 0.5, x=-1, y=-4\n",
    "monitor.add_sample([3., 3., -5.])    # etc.     \n",
    "print(monitor.data)"
   ]
  },
  {
   "cell_type": "markdown",
   "metadata": {},
   "source": [
    "We are now ready to evaluate formulas. For this we use the get_online_rob() method. "
   ]
  },
  {
   "cell_type": "code",
   "execution_count": 6,
   "metadata": {},
   "outputs": [
    {
     "name": "stdout",
     "output_type": "stream",
     "text": [
      "rob_mu_x =  [2.0, 2.0, 2.0]\n",
      "rob_mu_y =  [-2.8, -2.8, -2.8]\n",
      "rob_mu =  [-2.8, -2.8, -2.8]\n",
      "rob_phi =  [3.0, 3.0, 10000.0]\n"
     ]
    }
   ],
   "source": [
    "rob_mu_x  = monitor.get_online_rob(\"mu_x\")\n",
    "rob_mu_y  = monitor.get_online_rob(\"mu_y\")\n",
    "rob_mu    = monitor.get_online_rob(\"mu\")\n",
    "rob_phi = monitor.get_online_rob(\"phi\")\n",
    "\n",
    "print(\"rob_mu_x = \", rob_mu_x)\n",
    "print(\"rob_mu_y = \", rob_mu_y)\n",
    "print(\"rob_mu = \", rob_mu)\n",
    "print(\"rob_phi = \", rob_phi)"
   ]
  },
  {
   "cell_type": "markdown",
   "metadata": {},
   "source": [
    "`get_online_rob(\"phi\")` returns three values: `[rob_estimate, rob_low, rob_up]`. They have the following characteristics:\n",
    "- if the `phi` can be fully evaluated by the data, then all three values are equal to the actual robust satisfaction `rob` of the formula. On the example above, this is the case for atomic propositions, which are evaluated at time 0 by default.\n",
    "- Otherwise, `[rob_estimate, rob_low, rob_up]` are respectively an estimate, a lower bound and an upper bound of `rob`. In the example above, `phi` cannot be evaluated because we have data up to time 3 and the formula requires data up to time `tau`, which is 5. However, stlrom computed that rob is between 3 and 10000, which means that we can already assert that the formula is satisfied (rob is positive.) \n",
    "\n",
    "Note that 10000 is an arbitrary large number that can be changed using the set_BigM() method."
   ]
  },
  {
   "cell_type": "code",
   "execution_count": 7,
   "metadata": {},
   "outputs": [],
   "source": [
    "s = stlrom.Signal().set_BigM(5000) # set the BigM value globally to 5000"
   ]
  },
  {
   "cell_type": "code",
   "execution_count": 8,
   "metadata": {},
   "outputs": [
    {
     "name": "stdout",
     "output_type": "stream",
     "text": [
      "[3.0, 3.0, 5000.0]\n"
     ]
    }
   ],
   "source": [
    "rob_phi = monitor.get_online_rob(\"phi\")\n",
    "print(rob_phi)"
   ]
  },
  {
   "cell_type": "markdown",
   "metadata": {},
   "source": [
    "Parameters can be changed using set_param().\n"
   ]
  },
  {
   "cell_type": "code",
   "execution_count": 9,
   "metadata": {},
   "outputs": [
    {
     "name": "stdout",
     "output_type": "stream",
     "text": [
      "[3.0, 3.0, 3.0]\n"
     ]
    }
   ],
   "source": [
    "monitor.set_param(\"tau\", 3.) # change the value of the parameter tau, from 5 to 3\n",
    "rob_phi = monitor.get_online_rob(\"phi\")\n",
    "print(rob_phi) "
   ]
  },
  {
   "cell_type": "markdown",
   "metadata": {},
   "source": [
    "Note that the robustness value of phi is now fully computed, since we reduced the time bound of the eventually operator. get_online_rob() can be called at a time different than 0."
   ]
  },
  {
   "cell_type": "code",
   "execution_count": 10,
   "metadata": {},
   "outputs": [
    {
     "name": "stdout",
     "output_type": "stream",
     "text": [
      "rob_mu_at_1: [-0.19999999999999996, -0.19999999999999996, -0.19999999999999996]\n",
      "rob_phi_at_1: [3.0, 3.0, 5000.0]\n"
     ]
    }
   ],
   "source": [
    "rob_mu_at_1 = monitor.get_online_rob(\"mu_x\", 1) \n",
    "print(\"rob_mu_at_1:\", rob_mu_at_1)\n",
    "\n",
    "rob_phi_at_1 = monitor.get_online_rob(\"phi\", 1) \n",
    "print(\"rob_phi_at_1:\", rob_phi_at_1)\n"
   ]
  },
  {
   "cell_type": "markdown",
   "metadata": {},
   "source": [
    "Note that data is interpolated linearly between samples. Also from time 1, the horizon of the eventually operator again goes beyond what we have in the data."
   ]
  }
 ],
 "metadata": {
  "kernelspec": {
   "display_name": ".venv",
   "language": "python",
   "name": "python3"
  },
  "language_info": {
   "codemirror_mode": {
    "name": "ipython",
    "version": 3
   },
   "file_extension": ".py",
   "mimetype": "text/x-python",
   "name": "python",
   "nbconvert_exporter": "python",
   "pygments_lexer": "ipython3",
   "version": "3.12.3"
  }
 },
 "nbformat": 4,
 "nbformat_minor": 2
}
