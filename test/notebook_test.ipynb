{
 "cells": [
  {
   "cell_type": "code",
   "execution_count": 1,
   "metadata": {},
   "outputs": [],
   "source": [
    "import sys\n",
    "sys.path.append('../build')\n",
    "import STLRom\n"
   ]
  },
  {
   "cell_type": "code",
   "execution_count": 2,
   "metadata": {},
   "outputs": [
    {
     "name": "stdout",
     "output_type": "stream",
     "text": [
      "Robs:\n",
      "[3.0, -10000.0, 3.0]\n"
     ]
    }
   ],
   "source": [
    "driver=STLRom.STLDriver()\n",
    "s=\"signal x\\nphi:= alw_[0., 3.] (x[t]<5)\"\n",
    "driver.parse_string(s)\n",
    "\n",
    "driver.add_sample([0, 1]);\n",
    "driver.add_sample([.1, 2]);\n",
    "robs = driver.get_online_rob(\"phi\")\n",
    "print(\"Robs:\")\n",
    "print(robs)\n"
   ]
  },
  {
   "cell_type": "code",
   "execution_count": 3,
   "metadata": {},
   "outputs": [
    {
     "name": "stdout",
     "output_type": "stream",
     "text": [
      "[-1.0, -10000.0, -1.0]\n"
     ]
    }
   ],
   "source": [
    "driver.add_sample([.2, 6]);\n",
    "robs = driver.get_online_rob(\"phi\")\n",
    "print(robs)"
   ]
  }
 ],
 "metadata": {
  "interpreter": {
   "hash": "e7370f93d1d0cde622a1f8e1c04877d8463912d04d973331ad4851f04de6915a"
  },
  "kernelspec": {
   "display_name": "Python 3 (ipykernel)",
   "language": "python",
   "name": "python3"
  },
  "language_info": {
   "codemirror_mode": {
    "name": "ipython",
    "version": 3
   },
   "file_extension": ".py",
   "mimetype": "text/x-python",
   "name": "python",
   "nbconvert_exporter": "python",
   "pygments_lexer": "ipython3",
   "version": "3.10.4"
  }
 },
 "nbformat": 4,
 "nbformat_minor": 2
}
